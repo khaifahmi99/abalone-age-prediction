{
  "nbformat": 4,
  "nbformat_minor": 0,
  "metadata": {
    "kernelspec": {
      "display_name": "Python 3",
      "language": "python",
      "name": "python3"
    },
    "language_info": {
      "codemirror_mode": {
        "name": "ipython",
        "version": 3
      },
      "file_extension": ".py",
      "mimetype": "text/x-python",
      "name": "python",
      "nbconvert_exporter": "python",
      "pygments_lexer": "ipython3",
      "version": "3.7.6"
    },
    "colab": {
      "name": "Abalone-Regression.ipynb",
      "provenance": [],
      "collapsed_sections": [],
      "toc_visible": true
    },
    "accelerator": "TPU"
  },
  "cells": [
    {
      "cell_type": "markdown",
      "metadata": {
        "id": "G_0AQN8sUYFT",
        "colab_type": "text"
      },
      "source": [
        "# Abalone Rings (Age) Prediction"
      ]
    },
    {
      "cell_type": "code",
      "metadata": {
        "id": "OIC3l6GDUYFV",
        "colab_type": "code",
        "colab": {}
      },
      "source": [
        "import numpy as np\n",
        "import pandas as pd\n",
        "import matplotlib.pyplot as plt\n",
        "import seaborn as sns\n",
        "import os\n",
        "\n",
        "%matplotlib inline"
      ],
      "execution_count": 21,
      "outputs": []
    },
    {
      "cell_type": "code",
      "metadata": {
        "id": "QYiPhKt_UYFc",
        "colab_type": "code",
        "colab": {}
      },
      "source": [
        "# set path to dataset\n",
        "fpath = 'dataset/abalone.data'"
      ],
      "execution_count": 22,
      "outputs": []
    },
    {
      "cell_type": "code",
      "metadata": {
        "id": "cLEg3HqtUYFg",
        "colab_type": "code",
        "colab": {
          "base_uri": "https://localhost:8080/",
          "height": 204
        },
        "outputId": "64ab6946-4144-445b-ec05-4bbf8494de74"
      },
      "source": [
        "df = pd.read_csv(fpath, header=None)\n",
        "df.head()"
      ],
      "execution_count": 23,
      "outputs": [
        {
          "output_type": "execute_result",
          "data": {
            "text/html": [
              "<div>\n",
              "<style scoped>\n",
              "    .dataframe tbody tr th:only-of-type {\n",
              "        vertical-align: middle;\n",
              "    }\n",
              "\n",
              "    .dataframe tbody tr th {\n",
              "        vertical-align: top;\n",
              "    }\n",
              "\n",
              "    .dataframe thead th {\n",
              "        text-align: right;\n",
              "    }\n",
              "</style>\n",
              "<table border=\"1\" class=\"dataframe\">\n",
              "  <thead>\n",
              "    <tr style=\"text-align: right;\">\n",
              "      <th></th>\n",
              "      <th>0</th>\n",
              "      <th>1</th>\n",
              "      <th>2</th>\n",
              "      <th>3</th>\n",
              "      <th>4</th>\n",
              "      <th>5</th>\n",
              "      <th>6</th>\n",
              "      <th>7</th>\n",
              "      <th>8</th>\n",
              "    </tr>\n",
              "  </thead>\n",
              "  <tbody>\n",
              "    <tr>\n",
              "      <th>0</th>\n",
              "      <td>M</td>\n",
              "      <td>0.455</td>\n",
              "      <td>0.365</td>\n",
              "      <td>0.095</td>\n",
              "      <td>0.5140</td>\n",
              "      <td>0.2245</td>\n",
              "      <td>0.1010</td>\n",
              "      <td>0.150</td>\n",
              "      <td>15</td>\n",
              "    </tr>\n",
              "    <tr>\n",
              "      <th>1</th>\n",
              "      <td>M</td>\n",
              "      <td>0.350</td>\n",
              "      <td>0.265</td>\n",
              "      <td>0.090</td>\n",
              "      <td>0.2255</td>\n",
              "      <td>0.0995</td>\n",
              "      <td>0.0485</td>\n",
              "      <td>0.070</td>\n",
              "      <td>7</td>\n",
              "    </tr>\n",
              "    <tr>\n",
              "      <th>2</th>\n",
              "      <td>F</td>\n",
              "      <td>0.530</td>\n",
              "      <td>0.420</td>\n",
              "      <td>0.135</td>\n",
              "      <td>0.6770</td>\n",
              "      <td>0.2565</td>\n",
              "      <td>0.1415</td>\n",
              "      <td>0.210</td>\n",
              "      <td>9</td>\n",
              "    </tr>\n",
              "    <tr>\n",
              "      <th>3</th>\n",
              "      <td>M</td>\n",
              "      <td>0.440</td>\n",
              "      <td>0.365</td>\n",
              "      <td>0.125</td>\n",
              "      <td>0.5160</td>\n",
              "      <td>0.2155</td>\n",
              "      <td>0.1140</td>\n",
              "      <td>0.155</td>\n",
              "      <td>10</td>\n",
              "    </tr>\n",
              "    <tr>\n",
              "      <th>4</th>\n",
              "      <td>I</td>\n",
              "      <td>0.330</td>\n",
              "      <td>0.255</td>\n",
              "      <td>0.080</td>\n",
              "      <td>0.2050</td>\n",
              "      <td>0.0895</td>\n",
              "      <td>0.0395</td>\n",
              "      <td>0.055</td>\n",
              "      <td>7</td>\n",
              "    </tr>\n",
              "  </tbody>\n",
              "</table>\n",
              "</div>"
            ],
            "text/plain": [
              "   0      1      2      3       4       5       6      7   8\n",
              "0  M  0.455  0.365  0.095  0.5140  0.2245  0.1010  0.150  15\n",
              "1  M  0.350  0.265  0.090  0.2255  0.0995  0.0485  0.070   7\n",
              "2  F  0.530  0.420  0.135  0.6770  0.2565  0.1415  0.210   9\n",
              "3  M  0.440  0.365  0.125  0.5160  0.2155  0.1140  0.155  10\n",
              "4  I  0.330  0.255  0.080  0.2050  0.0895  0.0395  0.055   7"
            ]
          },
          "metadata": {
            "tags": []
          },
          "execution_count": 23
        }
      ]
    },
    {
      "cell_type": "code",
      "metadata": {
        "id": "dEmB1JsCUYFk",
        "colab_type": "code",
        "colab": {
          "base_uri": "https://localhost:8080/",
          "height": 204
        },
        "outputId": "ce6ca6c3-e4e3-4c7c-a8d9-9de83f064863"
      },
      "source": [
        "# data info is obtained from another folder\n",
        "# map the column name to their dedicated column\n",
        "df.columns = ['sex', 'length', 'diameter', 'height', 'whole_weight', 'shucked_weight', 'viscera_weight', 'shell_weight', 'rings']\n",
        "df.head()"
      ],
      "execution_count": 24,
      "outputs": [
        {
          "output_type": "execute_result",
          "data": {
            "text/html": [
              "<div>\n",
              "<style scoped>\n",
              "    .dataframe tbody tr th:only-of-type {\n",
              "        vertical-align: middle;\n",
              "    }\n",
              "\n",
              "    .dataframe tbody tr th {\n",
              "        vertical-align: top;\n",
              "    }\n",
              "\n",
              "    .dataframe thead th {\n",
              "        text-align: right;\n",
              "    }\n",
              "</style>\n",
              "<table border=\"1\" class=\"dataframe\">\n",
              "  <thead>\n",
              "    <tr style=\"text-align: right;\">\n",
              "      <th></th>\n",
              "      <th>sex</th>\n",
              "      <th>length</th>\n",
              "      <th>diameter</th>\n",
              "      <th>height</th>\n",
              "      <th>whole_weight</th>\n",
              "      <th>shucked_weight</th>\n",
              "      <th>viscera_weight</th>\n",
              "      <th>shell_weight</th>\n",
              "      <th>rings</th>\n",
              "    </tr>\n",
              "  </thead>\n",
              "  <tbody>\n",
              "    <tr>\n",
              "      <th>0</th>\n",
              "      <td>M</td>\n",
              "      <td>0.455</td>\n",
              "      <td>0.365</td>\n",
              "      <td>0.095</td>\n",
              "      <td>0.5140</td>\n",
              "      <td>0.2245</td>\n",
              "      <td>0.1010</td>\n",
              "      <td>0.150</td>\n",
              "      <td>15</td>\n",
              "    </tr>\n",
              "    <tr>\n",
              "      <th>1</th>\n",
              "      <td>M</td>\n",
              "      <td>0.350</td>\n",
              "      <td>0.265</td>\n",
              "      <td>0.090</td>\n",
              "      <td>0.2255</td>\n",
              "      <td>0.0995</td>\n",
              "      <td>0.0485</td>\n",
              "      <td>0.070</td>\n",
              "      <td>7</td>\n",
              "    </tr>\n",
              "    <tr>\n",
              "      <th>2</th>\n",
              "      <td>F</td>\n",
              "      <td>0.530</td>\n",
              "      <td>0.420</td>\n",
              "      <td>0.135</td>\n",
              "      <td>0.6770</td>\n",
              "      <td>0.2565</td>\n",
              "      <td>0.1415</td>\n",
              "      <td>0.210</td>\n",
              "      <td>9</td>\n",
              "    </tr>\n",
              "    <tr>\n",
              "      <th>3</th>\n",
              "      <td>M</td>\n",
              "      <td>0.440</td>\n",
              "      <td>0.365</td>\n",
              "      <td>0.125</td>\n",
              "      <td>0.5160</td>\n",
              "      <td>0.2155</td>\n",
              "      <td>0.1140</td>\n",
              "      <td>0.155</td>\n",
              "      <td>10</td>\n",
              "    </tr>\n",
              "    <tr>\n",
              "      <th>4</th>\n",
              "      <td>I</td>\n",
              "      <td>0.330</td>\n",
              "      <td>0.255</td>\n",
              "      <td>0.080</td>\n",
              "      <td>0.2050</td>\n",
              "      <td>0.0895</td>\n",
              "      <td>0.0395</td>\n",
              "      <td>0.055</td>\n",
              "      <td>7</td>\n",
              "    </tr>\n",
              "  </tbody>\n",
              "</table>\n",
              "</div>"
            ],
            "text/plain": [
              "  sex  length  diameter  ...  viscera_weight  shell_weight  rings\n",
              "0   M   0.455     0.365  ...          0.1010         0.150     15\n",
              "1   M   0.350     0.265  ...          0.0485         0.070      7\n",
              "2   F   0.530     0.420  ...          0.1415         0.210      9\n",
              "3   M   0.440     0.365  ...          0.1140         0.155     10\n",
              "4   I   0.330     0.255  ...          0.0395         0.055      7\n",
              "\n",
              "[5 rows x 9 columns]"
            ]
          },
          "metadata": {
            "tags": []
          },
          "execution_count": 24
        }
      ]
    },
    {
      "cell_type": "code",
      "metadata": {
        "id": "e4yfC8OQUYFn",
        "colab_type": "code",
        "colab": {
          "base_uri": "https://localhost:8080/",
          "height": 391
        },
        "outputId": "03a6d609-5c77-43e2-dc9d-dc9db1e70441"
      },
      "source": [
        "print(df.shape)\n",
        "print(df.describe())\n",
        "print(df.dtypes)"
      ],
      "execution_count": 25,
      "outputs": [
        {
          "output_type": "stream",
          "text": [
            "(4177, 9)\n",
            "            length     diameter  ...  shell_weight        rings\n",
            "count  4177.000000  4177.000000  ...   4177.000000  4177.000000\n",
            "mean      0.523992     0.407881  ...      0.238831     9.933684\n",
            "std       0.120093     0.099240  ...      0.139203     3.224169\n",
            "min       0.075000     0.055000  ...      0.001500     1.000000\n",
            "25%       0.450000     0.350000  ...      0.130000     8.000000\n",
            "50%       0.545000     0.425000  ...      0.234000     9.000000\n",
            "75%       0.615000     0.480000  ...      0.329000    11.000000\n",
            "max       0.815000     0.650000  ...      1.005000    29.000000\n",
            "\n",
            "[8 rows x 8 columns]\n",
            "sex                object\n",
            "length            float64\n",
            "diameter          float64\n",
            "height            float64\n",
            "whole_weight      float64\n",
            "shucked_weight    float64\n",
            "viscera_weight    float64\n",
            "shell_weight      float64\n",
            "rings               int64\n",
            "dtype: object\n"
          ],
          "name": "stdout"
        }
      ]
    },
    {
      "cell_type": "code",
      "metadata": {
        "id": "ZrpW_6DOUYF1",
        "colab_type": "code",
        "colab": {
          "base_uri": "https://localhost:8080/",
          "height": 187
        },
        "outputId": "df439ca7-9e4c-4d47-85ce-bc26946cfac7"
      },
      "source": [
        "# look for missing values\n",
        "df.isnull().sum()"
      ],
      "execution_count": 26,
      "outputs": [
        {
          "output_type": "execute_result",
          "data": {
            "text/plain": [
              "sex               0\n",
              "length            0\n",
              "diameter          0\n",
              "height            0\n",
              "whole_weight      0\n",
              "shucked_weight    0\n",
              "viscera_weight    0\n",
              "shell_weight      0\n",
              "rings             0\n",
              "dtype: int64"
            ]
          },
          "metadata": {
            "tags": []
          },
          "execution_count": 26
        }
      ]
    },
    {
      "cell_type": "code",
      "metadata": {
        "id": "2tL7AOpuUYF_",
        "colab_type": "code",
        "colab": {
          "base_uri": "https://localhost:8080/",
          "height": 283
        },
        "outputId": "9d492883-bb6b-476a-f6d9-cb3a6edf2a4f"
      },
      "source": [
        "# look at skewness of all the features\n",
        "df.drop('rings', axis=1).boxplot()"
      ],
      "execution_count": 27,
      "outputs": [
        {
          "output_type": "execute_result",
          "data": {
            "text/plain": [
              "<matplotlib.axes._subplots.AxesSubplot at 0x7f49cb027ac8>"
            ]
          },
          "metadata": {
            "tags": []
          },
          "execution_count": 27
        },
        {
          "output_type": "display_data",
          "data": {
            "image/png": "[encoded data removed]",
            "text/plain": [
              "<Figure size 432x288 with 1 Axes>"
            ]
          },
          "metadata": {
            "tags": [],
            "needs_background": "light"
          }
        }
      ]
    },
    {
      "cell_type": "code",
      "metadata": {
        "id": "9dZFAmgWUYGL",
        "colab_type": "code",
        "colab": {}
      },
      "source": [
        "# define target and feature columns\n",
        "target = 'rings'\n",
        "features = list(df.columns)\n",
        "features.remove(target)"
      ],
      "execution_count": 28,
      "outputs": []
    },
    {
      "cell_type": "code",
      "metadata": {
        "id": "wLXuyo-ZUYGP",
        "colab_type": "code",
        "colab": {}
      },
      "source": [
        "# capping outliers\n",
        "for f in features[1:]:\n",
        "    upper_lim = df[f].quantile(0.75) + ((df[f].quantile(0.75) - df[f].quantile(0.25)) * 1.5)\n",
        "    lower_lim = df[f].quantile(0.25) - ((df[f].quantile(0.75) - df[f].quantile(0.25)) * 1.5)\n",
        "    \n",
        "    df.loc[(df[f] > upper_lim), f] = upper_lim\n",
        "    df.loc[(df[f] < lower_lim), f] = lower_lim"
      ],
      "execution_count": 29,
      "outputs": []
    },
    {
      "cell_type": "code",
      "metadata": {
        "id": "hy9CFNsuUYGf",
        "colab_type": "code",
        "colab": {
          "base_uri": "https://localhost:8080/",
          "height": 356
        },
        "outputId": "4fc2f491-2681-4142-e6fa-5e81e07d92a4"
      },
      "source": [
        "# look for correlation between features\n",
        "sns.heatmap(df[features].corr(), annot=True)"
      ],
      "execution_count": 30,
      "outputs": [
        {
          "output_type": "execute_result",
          "data": {
            "text/plain": [
              "<matplotlib.axes._subplots.AxesSubplot at 0x7f49caf018d0>"
            ]
          },
          "metadata": {
            "tags": []
          },
          "execution_count": 30
        },
        {
          "output_type": "display_data",
          "data": {
            "image/png": "[encoded data removed]",
            "text/plain": [
              "<Figure size 432x288 with 2 Axes>"
            ]
          },
          "metadata": {
            "tags": [],
            "needs_background": "light"
          }
        }
      ]
    },
    {
      "cell_type": "markdown",
      "metadata": {
        "id": "uxcRihXjUYGo",
        "colab_type": "text"
      },
      "source": [
        "## Based on the correlation matrix, these are concluded\n",
        "\n",
        "### 1. It can be seen that diameter and length is highly correlated\n",
        "### 2. Whole weight can represent the other weight features (shucked, viscera, shell)"
      ]
    },
    {
      "cell_type": "code",
      "metadata": {
        "id": "UeN335n9UYGp",
        "colab_type": "code",
        "colab": {}
      },
      "source": [
        "# define X and y\n",
        "y = df[target]\n",
        "X = df[['length', 'height', 'whole_weight']]\n",
        "X = pd.get_dummies(X)"
      ],
      "execution_count": 31,
      "outputs": []
    },
    {
      "cell_type": "code",
      "metadata": {
        "id": "8w4v558RUYGq",
        "colab_type": "code",
        "colab": {}
      },
      "source": [
        "# split dataset into train and test set\n",
        "from sklearn.model_selection import train_test_split\n",
        "test_size = 0.1\n",
        "random_state = 1\n",
        "np.random.seed(0)\n",
        "\n",
        "train_X, test_X, train_y, test_y = train_test_split(X, y, random_state=1, test_size=0.1)"
      ],
      "execution_count": 32,
      "outputs": []
    },
    {
      "cell_type": "code",
      "metadata": {
        "id": "gtgTafBYUYGy",
        "colab_type": "code",
        "colab": {}
      },
      "source": [
        "# scale the features\n",
        "from sklearn.preprocessing import StandardScaler\n",
        "\n",
        "scaler = StandardScaler().fit(X)\n",
        "train_X = scaler.transform(train_X)\n",
        "test_X = scaler.transform(test_X)"
      ],
      "execution_count": 33,
      "outputs": []
    },
    {
      "cell_type": "markdown",
      "metadata": {
        "id": "63iRFWC7UYG-",
        "colab_type": "text"
      },
      "source": [
        "## ML Models that are tested\n",
        "\n",
        "### 1. Random Forest\n",
        "### 2. Decision Tree\n",
        "### 3. Support Vector Machine\n",
        "### 4. Linear Regression\n",
        "### 5. Ridge Regression\n",
        "### 6. Logistic Regression\n",
        "### 7. XGBoost\n",
        "### 8. Polynomial Regression\n",
        "### 9. Deep Neural Network"
      ]
    },
    {
      "cell_type": "code",
      "metadata": {
        "id": "qRSEOCagUYG-",
        "colab_type": "code",
        "colab": {}
      },
      "source": [
        "from sklearn.metrics import mean_squared_error\n",
        "from sklearn.ensemble import RandomForestRegressor\n",
        "from sklearn.tree import DecisionTreeRegressor\n",
        "from sklearn.svm import SVR\n",
        "from sklearn.linear_model import LinearRegression\n",
        "from sklearn.linear_model import Ridge\n",
        "from sklearn.linear_model import LogisticRegression\n",
        "from xgboost import XGBRegressor\n",
        "\n",
        "# define all the models\n",
        "models = [\n",
        "    {'name': 'RF', 'model': RandomForestRegressor(random_state=random_state)},\n",
        "    {'name': 'DT', 'model': DecisionTreeRegressor(random_state=random_state)},\n",
        "    {'name': 'SVR', 'model': SVR()},\n",
        "    {'name': 'Linear', 'model': LinearRegression()},\n",
        "    {'name': 'Ridge', 'model': Ridge(random_state=random_state)},\n",
        "    {'name': 'LogReg', 'model': LogisticRegression()},\n",
        "    {'name': 'XGBoost', 'model': XGBRegressor(random_state=random_state)},\n",
        "]"
      ],
      "execution_count": 34,
      "outputs": []
    },
    {
      "cell_type": "code",
      "metadata": {
        "id": "fR6ZLe61UYHC",
        "colab_type": "code",
        "colab": {
          "base_uri": "https://localhost:8080/",
          "height": 666
        },
        "outputId": "0554ed06-ecca-4729-d7b7-24bbb6d5eb74"
      },
      "source": [
        "from sklearn.metrics import mean_squared_error\n",
        "from sklearn.metrics import mean_absolute_error\n",
        "\n",
        "# loop through all the models and calculate the MAE and RMSE Score on test set\n",
        "for m in models:\n",
        "    model = m['model']\n",
        "    model.fit(train_X, train_y)\n",
        "    \n",
        "    preds = model.predict(test_X)\n",
        "    mae = mean_absolute_error(test_y, preds)\n",
        "    mse = mean_squared_error(test_y, preds)\n",
        "    \n",
        "    print(m['name'])\n",
        "    print('MAE Score: ', mae)\n",
        "    print('RMSE Score: ', np.sqrt(mse))\n",
        "    print('')"
      ],
      "execution_count": 35,
      "outputs": [
        {
          "output_type": "stream",
          "text": [
            "RF\n",
            "MAE Score:  2.072405787195261\n",
            "RMSE Score:  2.7948258109130153\n",
            "\n",
            "DT\n",
            "MAE Score:  2.5239234449760763\n",
            "RMSE Score:  3.5692064173651774\n",
            "\n",
            "SVR\n",
            "MAE Score:  1.7785545102240108\n",
            "RMSE Score:  2.595742068185085\n",
            "\n",
            "Linear\n",
            "MAE Score:  1.894972401180214\n",
            "RMSE Score:  2.5632888058626286\n",
            "\n",
            "Ridge\n",
            "MAE Score:  1.894982588742873\n",
            "RMSE Score:  2.563265378988897\n",
            "\n",
            "LogReg\n",
            "MAE Score:  1.8803827751196172\n",
            "RMSE Score:  2.841086118886267\n",
            "\n",
            "[15:20:52] WARNING: /workspace/src/objective/regression_obj.cu:152: reg:linear is now deprecated in favor of reg:squarederror.\n",
            "XGBoost\n",
            "MAE Score:  1.8580872636092336\n",
            "RMSE Score:  2.5263736826333227\n",
            "\n"
          ],
          "name": "stdout"
        },
        {
          "output_type": "stream",
          "text": [
            "/usr/local/lib/python3.6/dist-packages/sklearn/linear_model/_logistic.py:940: ConvergenceWarning: lbfgs failed to converge (status=1):\n",
            "STOP: TOTAL NO. of ITERATIONS REACHED LIMIT.\n",
            "\n",
            "Increase the number of iterations (max_iter) or scale the data as shown in:\n",
            "    https://scikit-learn.org/stable/modules/preprocessing.html\n",
            "Please also refer to the documentation for alternative solver options:\n",
            "    https://scikit-learn.org/stable/modules/linear_model.html#logistic-regression\n",
            "  extra_warning_msg=_LOGISTIC_SOLVER_CONVERGENCE_MSG)\n"
          ],
          "name": "stderr"
        }
      ]
    },
    {
      "cell_type": "code",
      "metadata": {
        "id": "C4mZrEqqUYHH",
        "colab_type": "code",
        "colab": {
          "base_uri": "https://localhost:8080/",
          "height": 68
        },
        "outputId": "4b24f382-a2ea-498e-a01a-e5d3d20620dd"
      },
      "source": [
        "from sklearn.preprocessing import PolynomialFeatures\n",
        "\n",
        "# polynomial model\n",
        "model = LinearRegression()\n",
        "poly = PolynomialFeatures(2)\n",
        "X_train_transform = poly.fit_transform(train_X)\n",
        "X_test_transform = poly.fit_transform(test_X)\n",
        "model.fit(X_train_transform, train_y)\n",
        "\n",
        "preds = model.predict(X_test_transform)\n",
        "\n",
        "print('Polynomial Model')\n",
        "print('MAE Score: ', mean_absolute_error(test_y, preds))\n",
        "print('RMSE Score: ', np.sqrt(mean_squared_error(test_y, preds)))"
      ],
      "execution_count": 36,
      "outputs": [
        {
          "output_type": "stream",
          "text": [
            "Polynomial Model\n",
            "MAE Score:  1.8413286970707998\n",
            "RMSE Score:  2.503203002507605\n"
          ],
          "name": "stdout"
        }
      ]
    },
    {
      "cell_type": "code",
      "metadata": {
        "id": "SXZX4OSZUYHJ",
        "colab_type": "code",
        "colab": {}
      },
      "source": [
        "import keras.layers as layers\n",
        "import keras\n",
        "import tensorflow as tf\n",
        "from keras.callbacks import EarlyStopping\n",
        "\n",
        "from numpy.random import seed\n",
        "seed(1)\n",
        "\n",
        "# set early stopping to avoid overfitting\n",
        "callbacks = [EarlyStopping(monitor='val_loss', patience=30, restore_best_weights=True)]\n",
        "\n",
        "# using Keras DNN for prediction\n",
        "def build_model(lr=0.0001, epochs=500, batch_size=None, draw_loss=True):\n",
        "    model = keras.Sequential([\n",
        "    layers.Dense(64, activation='relu', input_shape=(3,)),\n",
        "    layers.Dense(128, activation='relu'),\n",
        "    layers.Dropout(0.25),\n",
        "    layers.Dense(64, activation='relu'),\n",
        "    layers.Dense(1)])\n",
        "\n",
        "    # define optimizer\n",
        "    optimizer = keras.optimizers.Adam(lr=lr)\n",
        "\n",
        "    # compile model\n",
        "    model.compile(loss='mse', optimizer=optimizer)\n",
        "    \n",
        "    # train the model\n",
        "    history = model.fit(train_X, train_y, epochs=epochs, batch_size=batch_size, validation_split = 0.2, verbose=0, callbacks=callbacks)\n",
        "\n",
        "    # summarize history for loss score\n",
        "    if draw_loss:\n",
        "        plt.plot(history.history['loss'])\n",
        "        plt.plot(history.history['val_loss'])\n",
        "        plt.title('model loss')\n",
        "        plt.ylabel('loss')\n",
        "        plt.xlabel('epoch')\n",
        "        plt.legend(['train', 'test'], loc='upper left')\n",
        "        plt.show()\n",
        "    \n",
        "    # calculate the mae and rmse on test set\n",
        "    preds = model.predict(test_X)\n",
        "    mae = mean_absolute_error(test_y, preds)\n",
        "    rmse = np.sqrt(mean_squared_error(test_y, preds))\n",
        "    \n",
        "    return model, mae, rmse"
      ],
      "execution_count": 37,
      "outputs": []
    },
    {
      "cell_type": "code",
      "metadata": {
        "id": "64uNbQczUYHM",
        "colab_type": "code",
        "colab": {
          "base_uri": "https://localhost:8080/",
          "height": 346
        },
        "outputId": "d2ad4494-af6f-4072-ceb6-65cae7aef504"
      },
      "source": [
        "model, mae, rmse = build_model()\n",
        "\n",
        "print('DNN Dense Model')\n",
        "print('MAE Score: ', mae)\n",
        "print('RMSE Score: ', rmse)"
      ],
      "execution_count": 38,
      "outputs": [
        {
          "output_type": "display_data",
          "data": {
            "image/png": "[encoded data removed]",
            "text/plain": [
              "<Figure size 432x288 with 1 Axes>"
            ]
          },
          "metadata": {
            "tags": [],
            "needs_background": "light"
          }
        },
        {
          "output_type": "stream",
          "text": [
            "DNN Dense Model\n",
            "MAE Score:  1.7982289517325076\n",
            "RMSE Score:  2.4736305884328247\n"
          ],
          "name": "stdout"
        }
      ]
    },
    {
      "cell_type": "markdown",
      "metadata": {
        "id": "NiZ4AcE2UYHU",
        "colab_type": "text"
      },
      "source": [
        "## Hyperparameter Tuning"
      ]
    },
    {
      "cell_type": "code",
      "metadata": {
        "id": "bnTr-VCMUYHU",
        "colab_type": "code",
        "colab": {}
      },
      "source": [
        "# DNN Keras Dense Model perform the best\n",
        "# Dense Model parameter will be tuned to achieve a better score\n",
        "# baseline will be rmse score of 2.49325"
      ],
      "execution_count": 39,
      "outputs": []
    },
    {
      "cell_type": "code",
      "metadata": {
        "id": "JznEENUJUYHV",
        "colab_type": "code",
        "colab": {}
      },
      "source": [
        "lrs = [0.1, 0.01, 0.001, 0.0001]\n",
        "n_epochs = [20, 50, 100, 200, 500, 600]\n",
        "batch_sizes = [None, 32, 64, 128, 256, 512]\n",
        "results = pd.DataFrame(columns=['parameters', 'mae', 'rmse'])\n",
        "\n",
        "for lr in lrs:\n",
        "    for epochs in n_epochs:\n",
        "        for batch_size in batch_sizes:\n",
        "            model, mae, rmse = build_model(lr=lr, epochs=epochs, batch_size=batch_size, draw_loss=False)\n",
        "            results = results.append({\n",
        "                'parameters': f'{lr}, {epochs}, {batch_size}',\n",
        "                'mae': mae,\n",
        "                'rmse':rmse\n",
        "            }, ignore_index=True)"
      ],
      "execution_count": 40,
      "outputs": []
    },
    {
      "cell_type": "code",
      "metadata": {
        "id": "1tkBWSGiUYHZ",
        "colab_type": "code",
        "colab": {
          "base_uri": "https://localhost:8080/",
          "height": 300
        },
        "outputId": "bce3f0c3-3c5f-43dc-f5e1-a149680d3850"
      },
      "source": [
        "import seaborn as sns\n",
        "results = results.sort_values(by=['rmse'])\n",
        "sns.barplot(data=results, x='rmse', y='parameters')"
      ],
      "execution_count": 46,
      "outputs": [
        {
          "output_type": "execute_result",
          "data": {
            "text/plain": [
              "<matplotlib.axes._subplots.AxesSubplot at 0x7f49c24699b0>"
            ]
          },
          "metadata": {
            "tags": []
          },
          "execution_count": 46
        },
        {
          "output_type": "display_data",
          "data": {
            "image/png": "[encoded data removed]",
            "text/plain": [
              "<Figure size 432x288 with 1 Axes>"
            ]
          },
          "metadata": {
            "tags": [],
            "needs_background": "light"
          }
        }
      ]
    },
    {
      "cell_type": "code",
      "metadata": {
        "id": "JA2vO6kJd0v2",
        "colab_type": "code",
        "colab": {
          "base_uri": "https://localhost:8080/",
          "height": 85
        },
        "outputId": "d554a93f-44ae-43a5-bce5-9b44f7bcb4e0"
      },
      "source": [
        "parameters = results[results['rmse'] == results['rmse'].min()]['parameters'].values[0]\n",
        "parameters = parameters.split(',')\n",
        "\n",
        "print('Best parameter for Dense model achieve a score of ', results['rmse'].min())\n",
        "print(f'Learning Rate: {parameters[0]}')\n",
        "print(f'Number of epochs: {parameters[1]}')\n",
        "print(f'Batch Size: {parameters[2]}')"
      ],
      "execution_count": 68,
      "outputs": [
        {
          "output_type": "stream",
          "text": [
            "Best parameter for Dense model achieve a score of  2.454786781550721\n",
            "Learning Rate: 0.001\n",
            "Number of epochs:  500\n",
            "Batch Size:  64\n"
          ],
          "name": "stdout"
        }
      ]
    },
    {
      "cell_type": "code",
      "metadata": {
        "id": "AR55D9Updenj",
        "colab_type": "code",
        "colab": {}
      },
      "source": [
        ""
      ],
      "execution_count": null,
      "outputs": []
    }
  ]
}